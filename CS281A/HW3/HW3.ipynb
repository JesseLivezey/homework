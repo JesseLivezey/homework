{
 "metadata": {
  "name": "HW3"
 },
 "nbformat": 3,
 "nbformat_minor": 0,
 "worksheets": [
  {
   "cells": [
    {
     "cell_type": "code",
     "collapsed": false,
     "input": [
      "from __future__ import division\n",
      "import numpy as np\n",
      "import matplotlib.pyplot as plt"
     ],
     "language": "python",
     "metadata": {},
     "outputs": [],
     "prompt_number": 36
    },
    {
     "cell_type": "heading",
     "level": 1,
     "metadata": {},
     "source": [
      "Problem 1"
     ]
    },
    {
     "cell_type": "code",
     "collapsed": false,
     "input": [
      "x1,x2,y = np.loadtxt('lms.dat',unpack=True)\n",
      "x = np.column_stack((x1,x2))"
     ],
     "language": "python",
     "metadata": {},
     "outputs": [],
     "prompt_number": 37
    },
    {
     "cell_type": "heading",
     "level": 2,
     "metadata": {},
     "source": [
      "Part (a)"
     ]
    },
    {
     "cell_type": "code",
     "collapsed": false,
     "input": [
      "cov = np.dot(x.T,x)"
     ],
     "language": "python",
     "metadata": {},
     "outputs": [],
     "prompt_number": 38
    },
    {
     "cell_type": "code",
     "collapsed": false,
     "input": [
      "beta = np.dot(np.linalg.inv(cov),np.dot(x.T,y))\n",
      "print 'Parameter Vector'\n",
      "print beta"
     ],
     "language": "python",
     "metadata": {},
     "outputs": [
      {
       "output_type": "stream",
       "stream": "stdout",
       "text": [
        "Parameter Vector\n",
        "[ 5.04203031 -1.40060196]\n"
       ]
      }
     ],
     "prompt_number": 172
    },
    {
     "cell_type": "heading",
     "level": 2,
     "metadata": {},
     "source": [
      "Part (b)"
     ]
    },
    {
     "cell_type": "code",
     "collapsed": false,
     "input": [
      "eVals,eVecs = np.linalg.eig(cov)\n",
      "print 'Eigenvalues'\n",
      "print eVals\n",
      "print 'Eigenvectors'\n",
      "print eVecs[0]\n",
      "print eVecs[1]"
     ],
     "language": "python",
     "metadata": {},
     "outputs": [
      {
       "output_type": "stream",
       "stream": "stdout",
       "text": [
        "Eigenvalues\n",
        "[  8.09336026  22.95175814]\n",
        "Eigenvectors\n",
        "[-0.84686679  0.53180508]\n",
        "[-0.53180508 -0.84686679]\n"
       ]
      }
     ],
     "prompt_number": 174
    },
    {
     "cell_type": "code",
     "collapsed": false,
     "input": [
      "J = lambda b1,b2 : np.sum([(y[ii]-np.dot([b1,b2],x[ii]))**2 for ii in xrange(y.shape[0])])/2"
     ],
     "language": "python",
     "metadata": {},
     "outputs": [],
     "prompt_number": 70
    },
    {
     "cell_type": "code",
     "collapsed": false,
     "input": [
      "delta = 0.025\n",
      "beta1 = np.arange(0, beta[0]+3.0, delta)\n",
      "beta2 = np.arange(beta[1]-3.0, beta[1]+3.0, delta)\n",
      "Beta1, Beta2 = np.meshgrid(beta1, beta2)"
     ],
     "language": "python",
     "metadata": {},
     "outputs": [],
     "prompt_number": 144
    },
    {
     "cell_type": "code",
     "collapsed": false,
     "input": [
      "costJ = np.array([[J(Beta1[ii,jj],Beta2[ii,jj]) for ii in xrange(Beta1.shape[0])] for jj in xrange(Beta1.shape[1])]).T"
     ],
     "language": "python",
     "metadata": {},
     "outputs": [],
     "prompt_number": 153
    },
    {
     "cell_type": "code",
     "collapsed": false,
     "input": [
      "plt.figure()\n",
      "CS = plt.contour(Beta1, Beta2, costJ,30)\n",
      "plt.clabel(CS, inline=1, fontsize=10)\n",
      "plt.title('Cost as a function of parameters')\n",
      "plt.xlabel('Beta1')\n",
      "plt.ylabel('Beta2')\n",
      "#plt.quiver([beta[0],beta[0]],[beta[1],beta[1]],eVecs.T[0]*eVals,eVecs.T[1]*eVals,scale=100)\n",
      "plt.show()"
     ],
     "language": "python",
     "metadata": {},
     "outputs": [],
     "prompt_number": 195
    },
    {
     "cell_type": "heading",
     "level": 2,
     "metadata": {},
     "source": [
      "Part (c)"
     ]
    },
    {
     "cell_type": "code",
     "collapsed": false,
     "input": [
      "iterations = 500\n",
      "betas = np.zeros((iterations,2))\n",
      "rho = 1/np.linalg.eigh(cov)[0][-1]/4\n",
      "for ii in xrange(1,iterations):\n",
      "    #jj = ii % y.shape[0]\n",
      "    jj = np.random.randint(y.shape[0])\n",
      "    betas[ii] = betas[ii-1] +rho*(y[jj]-np.dot(betas[ii-1],x[jj]))*x[jj]"
     ],
     "language": "python",
     "metadata": {},
     "outputs": [],
     "prompt_number": 200
    },
    {
     "cell_type": "code",
     "collapsed": false,
     "input": [
      "plt.figure()\n",
      "CS = plt.contour(Beta1, Beta2, costJ,30)\n",
      "plt.clabel(CS, inline=1, fontsize=10)\n",
      "plt.xlabel('Beta1')\n",
      "plt.ylabel('Beta2')\n",
      "plt.title('Cost as a function of parameters\\n'+'Rho:'+str(rho))\n",
      "skip = 1\n",
      "plt.plot(betas[::skip,0],betas[::skip,1])\n",
      "plt.plot(betas[::skip,0],betas[::skip,1],'bo')\n",
      "plt.show()"
     ],
     "language": "python",
     "metadata": {},
     "outputs": [],
     "prompt_number": 201
    },
    {
     "cell_type": "code",
     "collapsed": false,
     "input": [
      "print beta\n",
      "print betas[-1]"
     ],
     "language": "python",
     "metadata": {},
     "outputs": [
      {
       "output_type": "stream",
       "stream": "stdout",
       "text": [
        "[ 5.04203031 -1.40060196]\n",
        "[ 5.04085023 -1.38851189]\n"
       ]
      }
     ],
     "prompt_number": 189
    },
    {
     "cell_type": "code",
     "collapsed": false,
     "input": [],
     "language": "python",
     "metadata": {},
     "outputs": []
    }
   ],
   "metadata": {}
  }
 ]
}