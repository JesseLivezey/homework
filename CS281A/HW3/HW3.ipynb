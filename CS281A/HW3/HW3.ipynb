{
 "metadata": {
  "name": "HW3"
 },
 "nbformat": 3,
 "nbformat_minor": 0,
 "worksheets": [
  {
   "cells": [
    {
     "cell_type": "code",
     "collapsed": false,
     "input": [
      "from __future__ import division\n",
      "import numpy as np\n",
      "import matplotlib.pyplot as plt"
     ],
     "language": "python",
     "metadata": {},
     "outputs": [],
     "prompt_number": 36
    },
    {
     "cell_type": "heading",
     "level": 1,
     "metadata": {},
     "source": [
      "Problem 1"
     ]
    },
    {
     "cell_type": "code",
     "collapsed": false,
     "input": [
      "x1,x2,y = np.loadtxt('lms.dat',unpack=True)\n",
      "x = np.column_stack((x1,x2))"
     ],
     "language": "python",
     "metadata": {},
     "outputs": [],
     "prompt_number": 37
    },
    {
     "cell_type": "heading",
     "level": 2,
     "metadata": {},
     "source": [
      "Part (a)"
     ]
    },
    {
     "cell_type": "code",
     "collapsed": false,
     "input": [
      "cov = np.dot(x.T,x)"
     ],
     "language": "python",
     "metadata": {},
     "outputs": [],
     "prompt_number": 38
    },
    {
     "cell_type": "code",
     "collapsed": false,
     "input": [
      "beta = np.dot(np.linalg.inv(cov),np.dot(x.T,y))\n",
      "print beta"
     ],
     "language": "python",
     "metadata": {},
     "outputs": [
      {
       "output_type": "stream",
       "stream": "stdout",
       "text": [
        "[ 5.04203031 -1.40060196]\n"
       ]
      }
     ],
     "prompt_number": 39
    },
    {
     "cell_type": "heading",
     "level": 2,
     "metadata": {},
     "source": [
      "Part (b)"
     ]
    },
    {
     "cell_type": "code",
     "collapsed": false,
     "input": [
      "J = lambda b1,b2 : np.sum([(y[ii]-np.dot([b1,b2],x[ii]))**2 for ii in xrange(y.shape[0])])/2"
     ],
     "language": "python",
     "metadata": {},
     "outputs": [],
     "prompt_number": 70
    },
    {
     "cell_type": "code",
     "collapsed": false,
     "input": [
      "J = lambda beta : np.sum([(y[ii]-np.dot(beta,x[ii]))**2 for ii in xrang(y.shape[0])])\n",
      "\n",
      "matplotlib.rcParams['xtick.direction'] = 'out'\n",
      "matplotlib.rcParams['ytick.direction'] = 'out'\n",
      "\n",
      "delta = 0.025\n",
      "beta1 = np.arange(beta[0]-3.0, beta[0]+3.0, delta)\n",
      "beta2 = np.arange(beta[1]-3.0, beta[1]+3.0, delta)\n",
      "X, Y = np.meshgrid(x, y)\n",
      "Z1 = mlab.bivariate_normal(X, Y, 1.0, 1.0, 0.0, 0.0)\n",
      "Z2 = mlab.bivariate_normal(X, Y, 1.5, 0.5, 1, 1)\n",
      "# difference of Gaussians\n",
      "Z = 10.0 * (Z2 - Z1)\n",
      "\n",
      "\n",
      "\n",
      "# Create a simple contour plot with labels using default colors.  The\n",
      "# inline argument to clabel will control whether the labels are draw\n",
      "# over the line segments of the contour, removing the lines beneath\n",
      "# the label\n",
      "plt.figure()\n",
      "CS = plt.contour(X, Y, Z)\n",
      "plt.clabel(CS, inline=1, fontsize=10)\n",
      "plt.title('Simplest default with labels')"
     ],
     "language": "python",
     "metadata": {},
     "outputs": []
    },
    {
     "cell_type": "code",
     "collapsed": false,
     "input": [
      "delta = 0.025\n",
      "beta1 = np.arange(beta[0]-3.0, beta[0]+3.0, delta)\n",
      "beta2 = np.arange(beta[1]-3.0, beta[1]+3.0, delta)\n",
      "Beta1, Beta2 = np.meshgrid(beta1, beta2)"
     ],
     "language": "python",
     "metadata": {},
     "outputs": [],
     "prompt_number": 106
    },
    {
     "cell_type": "code",
     "collapsed": false,
     "input": [
      "costJ = np.array([[J(Beta1[ii,jj],Beta2[ii,jj]) for ii in xrange(Beta1.shape[0])] for jj in xrange(Beta1.shape[1])])"
     ],
     "language": "python",
     "metadata": {},
     "outputs": [],
     "prompt_number": 107
    },
    {
     "cell_type": "code",
     "collapsed": false,
     "input": [
      "plt.figure()\n",
      "CS = plt.contour(Beta1, Beta2, costJ)\n",
      "plt.clabel(CS, inline=1, fontsize=10)\n",
      "plt.title('Cost as a function of parameters')\n",
      "plt.show()"
     ],
     "language": "python",
     "metadata": {},
     "outputs": [],
     "prompt_number": 72
    },
    {
     "cell_type": "heading",
     "level": 2,
     "metadata": {},
     "source": [
      "Part (c)"
     ]
    },
    {
     "cell_type": "code",
     "collapsed": false,
     "input": [
      "iterations = 1000\n",
      "betas = np.zeros((iterations,2))\n",
      "rho = 1/np.linalg.eigh(cov)[0][-1]/4\n",
      "for ii in xrange(1,iterations):\n",
      "    #jj = ii % y.shape[0]\n",
      "    jj = np.random.randint(y.shape[0])\n",
      "    betas[ii] = betas[ii-1] +rho*(y[jj]-np.dot(betas[ii-1],x[jj]))*x[jj]"
     ],
     "language": "python",
     "metadata": {},
     "outputs": [],
     "prompt_number": 122
    },
    {
     "cell_type": "code",
     "collapsed": false,
     "input": [
      "plt.figure()\n",
      "CS = plt.contour(Beta1, Beta2, costJ)\n",
      "plt.clabel(CS, inline=1, fontsize=10)\n",
      "plt.title('Cost as a function of parameters')\n",
      "skip = 50\n",
      "plt.plot(betas[::skip,0],betas[::skip,1])\n",
      "plt.plot(betas[::skip,0],betas[::skip,1],'bo')\n",
      "plt.show()"
     ],
     "language": "python",
     "metadata": {},
     "outputs": [],
     "prompt_number": 124
    },
    {
     "cell_type": "code",
     "collapsed": false,
     "input": [
      "print beta\n",
      "print betas[-1]"
     ],
     "language": "python",
     "metadata": {},
     "outputs": [
      {
       "output_type": "stream",
       "stream": "stdout",
       "text": [
        "[ 5.04203031 -1.40060196]\n",
        "[ 4.64406515 -1.64969257]\n"
       ]
      }
     ],
     "prompt_number": 119
    },
    {
     "cell_type": "code",
     "collapsed": false,
     "input": [],
     "language": "python",
     "metadata": {},
     "outputs": []
    }
   ],
   "metadata": {}
  }
 ]
}