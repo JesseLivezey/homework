{
 "metadata": {
  "name": "HW1"
 },
 "nbformat": 3,
 "nbformat_minor": 0,
 "worksheets": [
  {
   "cells": [
    {
     "cell_type": "code",
     "collapsed": false,
     "input": [
      "from __future__ import division\n",
      "import numpy as np"
     ],
     "language": "python",
     "metadata": {},
     "outputs": [],
     "prompt_number": 1
    },
    {
     "cell_type": "heading",
     "level": 2,
     "metadata": {},
     "source": [
      "Problem 6"
     ]
    },
    {
     "cell_type": "code",
     "collapsed": false,
     "input": [
      "v1=vertex([],2)\n",
      "v2=vertex(1,3)\n",
      "v3=vertex(2,4)\n",
      "v4=vertex(3,[])"
     ],
     "language": "python",
     "metadata": {},
     "outputs": [],
     "prompt_number": 59
    },
    {
     "cell_type": "code",
     "collapsed": false,
     "input": [
      "e1=edge(1,2)\n",
      "e2=edge(2,3)\n",
      "e3=edge(3,4)"
     ],
     "language": "python",
     "metadata": {},
     "outputs": [],
     "prompt_number": 60
    },
    {
     "cell_type": "code",
     "collapsed": false,
     "input": [
      "pMat=[[.6,.4],[.2,.8]]\n",
      "v1.addConditional(pMat)\n",
      "v2.addConditional(pMat)\n",
      "v3.addConditional(pMat)"
     ],
     "language": "python",
     "metadata": {},
     "outputs": [],
     "prompt_number": 61
    },
    {
     "cell_type": "code",
     "collapsed": false,
     "input": [
      "c=chain([v1,v2,v3,v4],[e1,e2,e3])"
     ],
     "language": "python",
     "metadata": {},
     "outputs": [
      {
       "ename": "NameError",
       "evalue": "name 'chain' is not defined",
       "output_type": "pyerr",
       "traceback": [
        "\u001b[0;31m---------------------------------------------------------------------------\u001b[0m\n\u001b[0;31mNameError\u001b[0m                                 Traceback (most recent call last)",
        "\u001b[0;32m<ipython-input-62-a9b79c884140>\u001b[0m in \u001b[0;36m<module>\u001b[0;34m()\u001b[0m\n\u001b[0;32m----> 1\u001b[0;31m \u001b[0mc\u001b[0m\u001b[0;34m=\u001b[0m\u001b[0mchain\u001b[0m\u001b[0;34m(\u001b[0m\u001b[0;34m[\u001b[0m\u001b[0mv1\u001b[0m\u001b[0;34m,\u001b[0m\u001b[0mv2\u001b[0m\u001b[0;34m,\u001b[0m\u001b[0mv3\u001b[0m\u001b[0;34m,\u001b[0m\u001b[0mv4\u001b[0m\u001b[0;34m]\u001b[0m\u001b[0;34m,\u001b[0m\u001b[0;34m[\u001b[0m\u001b[0me1\u001b[0m\u001b[0;34m,\u001b[0m\u001b[0me2\u001b[0m\u001b[0;34m,\u001b[0m\u001b[0me3\u001b[0m\u001b[0;34m]\u001b[0m\u001b[0;34m)\u001b[0m\u001b[0;34m\u001b[0m\u001b[0m\n\u001b[0m",
        "\u001b[0;31mNameError\u001b[0m: name 'chain' is not defined"
       ]
      }
     ],
     "prompt_number": 62
    },
    {
     "cell_type": "code",
     "collapsed": false,
     "input": [
      "evidence=[[4],[1]]\n",
      "query=1\n",
      "order=[4,3,2,1]"
     ],
     "language": "python",
     "metadata": {},
     "outputs": [],
     "prompt_number": 53
    },
    {
     "cell_type": "code",
     "collapsed": false,
     "input": [],
     "language": "python",
     "metadata": {},
     "outputs": []
    },
    {
     "cell_type": "heading",
     "level": 2,
     "metadata": {},
     "source": [
      "Graph Class"
     ]
    },
    {
     "cell_type": "code",
     "collapsed": false,
     "input": [
      "class chain:\n",
      "    def __init__(self,V,E,directed=None):\n",
      "        if directed is None:\n",
      "            directed=True\n",
      "        self.V=V\n",
      "        self.vNums=[]\n",
      "        for self.i in self.V:\n",
      "            self.vNums.append(self.V.index)\n",
      "        self.E=E\n",
      "        self.eNums=[]\n",
      "        for self.i in self.E:\n",
      "            self.eNums.append(self.E.index)\n",
      "    def eliminate(self,evidence,query,order):\n",
      "        active=[]\n",
      "        for self.i in self.V:\n",
      "            if self.i.index in evidence[1]:\n",
      "                active.append(([self.i.index],evidence[2][evidence[1].index(self.i.index)]))\n",
      "            elif self.i.index == query:\n",
      "                pass\n",
      "            else:\n",
      "                active.append((self.i.index,self.i.condMat))\n",
      "        for node in order:\n",
      "            "
     ],
     "language": "python",
     "metadata": {},
     "outputs": [],
     "prompt_number": 50
    },
    {
     "cell_type": "heading",
     "level": 2,
     "metadata": {},
     "source": [
      "Vertex and Edge Classes"
     ]
    },
    {
     "cell_type": "code",
     "collapsed": false,
     "input": [
      "class vertex:\n",
      "    vCount=0\n",
      "    def __init__(self,parent,child):\n",
      "        self.parent=parent\n",
      "        self.child=child\n",
      "        self.index=vertex.vCount\n",
      "        vertex.vCount = vertex.vCount+1\n",
      "    def addConditional(self,condMat):\n",
      "        self.condMat = condMat"
     ],
     "language": "python",
     "metadata": {},
     "outputs": [],
     "prompt_number": 57
    },
    {
     "cell_type": "code",
     "collapsed": false,
     "input": [
      "class edge:\n",
      "    eCount=0\n",
      "    def __init__(self,parent,child):\n",
      "        self.connection=(parent,child)\n",
      "        self.index=edge.eCount\n",
      "        edge.eCount = edge.eCount+1"
     ],
     "language": "python",
     "metadata": {},
     "outputs": [],
     "prompt_number": 58
    },
    {
     "cell_type": "heading",
     "level": 2,
     "metadata": {},
     "source": [
      "Eliminate"
     ]
    },
    {
     "cell_type": "code",
     "collapsed": false,
     "input": [
      "def P1GnChain(n,condMat,chainLen):\n",
      "    #Initialize \\phi\n",
      "    if n == 0:\n",
      "        m = condMat[0]\n",
      "    else:\n",
      "        m = condMat[1]\n",
      "    print m\n",
      "    #Update \\phi for nodes three through one\n",
      "    for ii in xrange(chainLen-1):\n",
      "        mtemp = m[:]\n",
      "        mtemp[0]= m[0]*condMat[0][0]+m[1]*condMat[1][0]\n",
      "        mtemp[1]= m[0]*condMat[0][1]+m[1]*condMat[1][1]\n",
      "        m=mtemp\n",
      "        print m\n",
      "    #Print conditional probabilities\n",
      "    print \"P(x_1=0|x_4=1)\"\n",
      "    print m[0]/(m[0]+m[1])\n",
      "    print \"P(x_1=1|x_4=1)\"\n",
      "    print m[1]/(m[0]+m[1])"
     ],
     "language": "python",
     "metadata": {},
     "outputs": [],
     "prompt_number": 35
    },
    {
     "cell_type": "code",
     "collapsed": false,
     "input": [
      "n = 1\n",
      "condMat = [[.6,.2],[.4,.8]]\n",
      "chainLen = 4"
     ],
     "language": "python",
     "metadata": {},
     "outputs": [],
     "prompt_number": 56
    },
    {
     "cell_type": "code",
     "collapsed": false,
     "input": [
      "P1GnChain(n,condMat,chainLen)"
     ],
     "language": "python",
     "metadata": {},
     "outputs": [
      {
       "output_type": "stream",
       "stream": "stdout",
       "text": [
        "[0.4, 0.8]\n",
        "[0.56, 0.7200000000000002]\n",
        "[0.6240000000000001, 0.6880000000000002]\n",
        "[0.6496000000000002, 0.6752000000000001]\n",
        "P(x_1=0|x_4=1)\n",
        "0.490338164251\n",
        "P(x_1=1|x_4=1)\n",
        "0.509661835749\n"
       ]
      }
     ],
     "prompt_number": 57
    },
    {
     "cell_type": "code",
     "collapsed": false,
     "input": [],
     "language": "python",
     "metadata": {},
     "outputs": []
    }
   ],
   "metadata": {}
  }
 ]
}