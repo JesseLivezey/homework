{
 "metadata": {
  "name": ""
 },
 "nbformat": 3,
 "nbformat_minor": 0,
 "worksheets": [
  {
   "cells": [
    {
     "cell_type": "code",
     "collapsed": false,
     "input": [
      "from __future__ import division\n",
      "import numpy as np\n",
      "import matplotlib.pyplot as plt\n",
      "%pylab inline"
     ],
     "language": "python",
     "metadata": {},
     "outputs": [
      {
       "output_type": "stream",
       "stream": "stdout",
       "text": [
        "Populating the interactive namespace from numpy and matplotlib\n"
       ]
      }
     ],
     "prompt_number": 1
    },
    {
     "cell_type": "heading",
     "level": 1,
     "metadata": {},
     "source": [
      "Problem 1"
     ]
    },
    {
     "cell_type": "heading",
     "level": 2,
     "metadata": {},
     "source": [
      "Part a)"
     ]
    },
    {
     "cell_type": "code",
     "collapsed": false,
     "input": [
      "training = np.loadtxt('classification.dat')\n",
      "testing = np.loadtxt('classification.test')"
     ],
     "language": "python",
     "metadata": {},
     "outputs": [],
     "prompt_number": 2
    },
    {
     "cell_type": "code",
     "collapsed": false,
     "input": [
      "zerosd = training[training[:,2]==0]\n",
      "onesd = training[training[:,2]==1]"
     ],
     "language": "python",
     "metadata": {},
     "outputs": [],
     "prompt_number": 3
    },
    {
     "cell_type": "code",
     "collapsed": false,
     "input": [
      "plt.plot(zerosd[:,0],zerosd[:,1],'ro',onesd[:,0],onesd[:,1],'bx')"
     ],
     "language": "python",
     "metadata": {},
     "outputs": [
      {
       "metadata": {},
       "output_type": "pyout",
       "prompt_number": 4,
       "text": [
        "[<matplotlib.lines.Line2D at 0x108fc4350>,\n",
        " <matplotlib.lines.Line2D at 0x108fc45d0>]"
       ]
      },
      {
       "metadata": {},
       "output_type": "display_data",
       "png": "[encoded data removed]",
       "text": [
        "<matplotlib.figure.Figure at 0x108f9eb10>"
       ]
      }
     ],
     "prompt_number": 4
    },
    {
     "cell_type": "heading",
     "level": 2,
     "metadata": {},
     "source": [
      "Part b)"
     ]
    },
    {
     "cell_type": "code",
     "collapsed": false,
     "input": [
      "mu0 = np.mean(zerosd[:,:2],axis=0)\n",
      "mu1 = np.mean(onesd[:,:2],axis=0)\n",
      "sigma = (np.sum([np.outer(zerosd[ii,:2]-mu0,zerosd[ii,:2]-mu0) for ii in xrange(zerosd.shape[0])],axis=0)+\n",
      "         np.sum([np.outer(onesd[ii,:2]-mu1,onesd[ii,:2]-mu1) for ii in xrange(onesd.shape[0])],axis=0))/training.shape[0]"
     ],
     "language": "python",
     "metadata": {},
     "outputs": [],
     "prompt_number": 5
    },
    {
     "cell_type": "code",
     "collapsed": false,
     "input": [
      "ft=np.dot(np.linalg.inv(sigma),mu1-mu0)"
     ],
     "language": "python",
     "metadata": {},
     "outputs": [],
     "prompt_number": 6
    },
    {
     "cell_type": "code",
     "collapsed": false,
     "input": [
      "lo=-.5*np.dot((mu1-mu0),np.dot(np.linalg.inv(sigma),(mu1+mu0)))"
     ],
     "language": "python",
     "metadata": {},
     "outputs": [],
     "prompt_number": 7
    },
    {
     "cell_type": "code",
     "collapsed": false,
     "input": [
      "xpts = np.linspace(-5,1,50)\n",
      "ypts = -(ft[0]*xpts+lo)/ft[1]"
     ],
     "language": "python",
     "metadata": {},
     "outputs": [],
     "prompt_number": 8
    },
    {
     "cell_type": "code",
     "collapsed": false,
     "input": [
      "plt.plot(zerosd[:,0],zerosd[:,1],'ro',onesd[:,0],onesd[:,1],'bx')\n",
      "plt.plot(xpts,ypts)"
     ],
     "language": "python",
     "metadata": {},
     "outputs": [
      {
       "metadata": {},
       "output_type": "pyout",
       "prompt_number": 9,
       "text": [
        "[<matplotlib.lines.Line2D at 0x108fab8d0>]"
       ]
      },
      {
       "metadata": {},
       "output_type": "display_data",
       "png": "[encoded data removed]",
       "text": [
        "<matplotlib.figure.Figure at 0x108fab510>"
       ]
      }
     ],
     "prompt_number": 9
    },
    {
     "cell_type": "heading",
     "level": 2,
     "metadata": {},
     "source": [
      "Part c)"
     ]
    },
    {
     "cell_type": "code",
     "collapsed": false,
     "input": [
      "weights = np.zeros(3)\n",
      "ep = .01\n",
      "nData = training.shape[0]\n",
      "def logisticm(wg,data):\n",
      "    return 1/(1+np.exp(-np.dot(wg,data)))"
     ],
     "language": "python",
     "metadata": {},
     "outputs": [],
     "prompt_number": 32
    },
    {
     "cell_type": "code",
     "collapsed": false,
     "input": [
      "y = training[:,2]\n",
      "x = np.column_stack((training[:,:2],np.ones_like(training[:,0])))\n",
      "for ii in xrange(1000):\n",
      "    weights -= (100*ep/(100+ii))*np.sum([y[jj]*x[jj]*logisticm(y[jj]*weights,x[jj]) for jj in xrange(nData)],axis=0)\n",
      "print weights"
     ],
     "language": "python",
     "metadata": {},
     "outputs": [
      {
       "output_type": "stream",
       "stream": "stdout",
       "text": [
        "[ 2.88227071  0.0255293  -1.45372672]\n"
       ]
      }
     ],
     "prompt_number": 33
    },
    {
     "cell_type": "code",
     "collapsed": false,
     "input": [
      "xpts = np.linspace(.4,.6,50)\n",
      "ypts = -(weights[0]*xpts+weights[2])/weights[1]"
     ],
     "language": "python",
     "metadata": {},
     "outputs": [],
     "prompt_number": 34
    },
    {
     "cell_type": "code",
     "collapsed": false,
     "input": [
      "plt.plot(zerosd[:,0],zerosd[:,1],'ro',onesd[:,0],onesd[:,1],'bx')\n",
      "plt.plot(xpts,ypts)"
     ],
     "language": "python",
     "metadata": {},
     "outputs": [
      {
       "metadata": {},
       "output_type": "pyout",
       "prompt_number": 35,
       "text": [
        "[<matplotlib.lines.Line2D at 0x10b7cc910>]"
       ]
      },
      {
       "metadata": {},
       "output_type": "display_data",
       "png": "[encoded data removed]",
       "text": [
        "<matplotlib.figure.Figure at 0x10b7cc950>"
       ]
      }
     ],
     "prompt_number": 35
    },
    {
     "cell_type": "heading",
     "level": 2,
     "metadata": {},
     "source": [
      "Part d)"
     ]
    },
    {
     "cell_type": "code",
     "collapsed": false,
     "input": [
      "weightsl = np.dot(np.linalg.pinv(np.dot(x.T,x)),np.dot(x.T,y))\n",
      "xpts = np.linspace(-5,1,50)\n",
      "ypts = -(weightsl[0]*xpts+weightsl[2]-.5)/weightsl[1]"
     ],
     "language": "python",
     "metadata": {},
     "outputs": [],
     "prompt_number": 48
    },
    {
     "cell_type": "code",
     "collapsed": false,
     "input": [
      "plt.plot(zerosd[:,0],zerosd[:,1],'ro',onesd[:,0],onesd[:,1],'bx')\n",
      "plt.plot(xpts,ypts)"
     ],
     "language": "python",
     "metadata": {},
     "outputs": [
      {
       "metadata": {},
       "output_type": "pyout",
       "prompt_number": 49,
       "text": [
        "[<matplotlib.lines.Line2D at 0x10b7dd550>]"
       ]
      },
      {
       "metadata": {},
       "output_type": "display_data",
       "png": "[encoded data removed]",
       "text": [
        "<matplotlib.figure.Figure at 0x10b7dd3d0>"
       ]
      }
     ],
     "prompt_number": 49
    },
    {
     "cell_type": "heading",
     "level": 2,
     "metadata": {},
     "source": [
      "Part e)"
     ]
    },
    {
     "cell_type": "heading",
     "level": 3,
     "metadata": {},
     "source": [
      "Testing Part b)"
     ]
    },
    {
     "cell_type": "code",
     "collapsed": false,
     "input": [
      "p1b = lambda x: 1/(1+np.exp(-np.dot(ft,x)-lo))\n",
      "p1btest = [p1b(testing[ii,:2]) for ii in xrange(testing.shape[0])]"
     ],
     "language": "python",
     "metadata": {},
     "outputs": [],
     "prompt_number": 16
    },
    {
     "cell_type": "code",
     "collapsed": false,
     "input": [
      "pos = 0\n",
      "neg = 0\n",
      "fpos = 0\n",
      "fneg = 0\n",
      "for ii,data in enumerate(testing):\n",
      "    if p1btest[ii] >= .5 and data[2] == 1:\n",
      "        pos+=1\n",
      "    elif p1btest[ii] >= .5 and data[2] == 0:\n",
      "        fpos+=1\n",
      "    elif p1btest[ii] < .5 and data[2] == 1:\n",
      "        fneg+=1\n",
      "    else:\n",
      "        neg+=1"
     ],
     "language": "python",
     "metadata": {},
     "outputs": [],
     "prompt_number": 21
    },
    {
     "cell_type": "heading",
     "level": 4,
     "metadata": {},
     "source": [
      "Correct Positive (1) and False Positive"
     ]
    },
    {
     "cell_type": "code",
     "collapsed": false,
     "input": [
      "print pos,fpos"
     ],
     "language": "python",
     "metadata": {},
     "outputs": [
      {
       "output_type": "stream",
       "stream": "stdout",
       "text": [
        "54 2\n"
       ]
      }
     ],
     "prompt_number": 22
    },
    {
     "cell_type": "heading",
     "level": 4,
     "metadata": {},
     "source": [
      "Correct Negative (0) and False Negative"
     ]
    },
    {
     "cell_type": "code",
     "collapsed": false,
     "input": [
      "print neg,fneg"
     ],
     "language": "python",
     "metadata": {},
     "outputs": [
      {
       "output_type": "stream",
       "stream": "stdout",
       "text": [
        "70 24\n"
       ]
      }
     ],
     "prompt_number": 23
    },
    {
     "cell_type": "heading",
     "level": 3,
     "metadata": {},
     "source": [
      "Testing Part c)"
     ]
    },
    {
     "cell_type": "code",
     "collapsed": false,
     "input": [
      "x = np.column_stack((testing[:,:2],np.ones_like(testing[:,0])))\n",
      "p1ctest = [logisticm(weights,x[ii]) for ii in xrange(testing.shape[0])]"
     ],
     "language": "python",
     "metadata": {},
     "outputs": [],
     "prompt_number": 37
    },
    {
     "cell_type": "code",
     "collapsed": false,
     "input": [
      "pos = 0\n",
      "neg = 0\n",
      "fpos = 0\n",
      "fneg = 0\n",
      "for ii,data in enumerate(testing):\n",
      "    if p1ctest[ii] >= .5 and data[2] == 1:\n",
      "        pos+=1\n",
      "    elif p1ctest[ii] >= .5 and data[2] == 0:\n",
      "        fpos+=1\n",
      "    elif p1ctest[ii] < .5 and data[2] == 1:\n",
      "        fneg+=1\n",
      "    else:\n",
      "        neg+=1"
     ],
     "language": "python",
     "metadata": {},
     "outputs": [],
     "prompt_number": 39
    },
    {
     "cell_type": "heading",
     "level": 4,
     "metadata": {},
     "source": [
      "Correct Positive (1) and False Positive"
     ]
    },
    {
     "cell_type": "code",
     "collapsed": false,
     "input": [
      "print pos,fpos"
     ],
     "language": "python",
     "metadata": {},
     "outputs": [
      {
       "output_type": "stream",
       "stream": "stdout",
       "text": [
        "0 12\n"
       ]
      }
     ],
     "prompt_number": 40
    },
    {
     "cell_type": "heading",
     "level": 4,
     "metadata": {},
     "source": [
      "Correct Negative (1) and False Negative"
     ]
    },
    {
     "cell_type": "code",
     "collapsed": false,
     "input": [
      "print neg,fneg"
     ],
     "language": "python",
     "metadata": {},
     "outputs": [
      {
       "output_type": "stream",
       "stream": "stdout",
       "text": [
        "60 78\n"
       ]
      }
     ],
     "prompt_number": 41
    },
    {
     "cell_type": "heading",
     "level": 3,
     "metadata": {},
     "source": [
      "Testing Part d)"
     ]
    },
    {
     "cell_type": "code",
     "collapsed": false,
     "input": [
      "p1dtest = [np.dot(weightsl,x[ii]) for ii in xrange(testing.shape[0])]"
     ],
     "language": "python",
     "metadata": {},
     "outputs": [],
     "prompt_number": 44
    },
    {
     "cell_type": "code",
     "collapsed": false,
     "input": [
      "pos = 0\n",
      "neg = 0\n",
      "fpos = 0\n",
      "fneg = 0\n",
      "for ii,data in enumerate(testing):\n",
      "    if p1dtest[ii] >= .5 and data[2] == 1:\n",
      "        pos+=1\n",
      "    elif p1dtest[ii] >= .5 and data[2] == 0:\n",
      "        fpos+=1\n",
      "    elif p1dtest[ii] < .5 and data[2] == 1:\n",
      "        fneg+=1\n",
      "    else:\n",
      "        neg+=1"
     ],
     "language": "python",
     "metadata": {},
     "outputs": [],
     "prompt_number": 45
    },
    {
     "cell_type": "heading",
     "level": 4,
     "metadata": {},
     "source": [
      "Correct Positive (1) and False Positive"
     ]
    },
    {
     "cell_type": "code",
     "collapsed": false,
     "input": [
      "print pos,fpos"
     ],
     "language": "python",
     "metadata": {},
     "outputs": [
      {
       "output_type": "stream",
       "stream": "stdout",
       "text": [
        "54 2\n"
       ]
      }
     ],
     "prompt_number": 46
    },
    {
     "cell_type": "heading",
     "level": 4,
     "metadata": {},
     "source": [
      "Correct Negative (1) and False Negative"
     ]
    },
    {
     "cell_type": "code",
     "collapsed": false,
     "input": [
      "print neg,fneg"
     ],
     "language": "python",
     "metadata": {},
     "outputs": [
      {
       "output_type": "stream",
       "stream": "stdout",
       "text": [
        "70 24\n"
       ]
      }
     ],
     "prompt_number": 47
    },
    {
     "cell_type": "code",
     "collapsed": false,
     "input": [],
     "language": "python",
     "metadata": {},
     "outputs": []
    }
   ],
   "metadata": {}
  }
 ]
}